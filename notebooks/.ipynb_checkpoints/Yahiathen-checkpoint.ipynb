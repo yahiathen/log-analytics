{
 "cells": [
  {
   "cell_type": "markdown",
   "metadata": {},
   "source": [
    "## Note: Les définitions des fonctions et les imports en fin du notebook"
   ]
  },
  {
   "cell_type": "markdown",
   "metadata": {},
   "source": [
    "### Loading data"
   ]
  },
  {
   "cell_type": "code",
   "execution_count": 4,
   "metadata": {},
   "outputs": [],
   "source": [
    "log_file_path = \"../data/access.log\"\n",
    "data = load_data(log_file_path)"
   ]
  },
  {
   "cell_type": "markdown",
   "metadata": {},
   "source": [
    "### Q1) Nombre de lignes"
   ]
  },
  {
   "cell_type": "code",
   "execution_count": 5,
   "metadata": {},
   "outputs": [
    {
     "name": "stdout",
     "output_type": "stream",
     "text": [
      "** Nombre de lignes du fichier: 5875099\n",
      "CPU times: user 41.8 ms, sys: 23.7 ms, total: 65.6 ms\n",
      "Wall time: 5min 48s\n"
     ]
    }
   ],
   "source": [
    "%%time\n",
    "print(\"** Nombre de lignes du fichier: {}\".format(data.count()))"
   ]
  },
  {
   "cell_type": "markdown",
   "metadata": {},
   "source": [
    "### Q2) Nombre d'IP uniques loggées "
   ]
  },
  {
   "cell_type": "code",
   "execution_count": 6,
   "metadata": {},
   "outputs": [
    {
     "name": "stdout",
     "output_type": "stream",
     "text": [
      "** Le nombre d'IP uniques loggées: 75391\n",
      "CPU times: user 42.5 ms, sys: 1.88 ms, total: 44.4 ms\n",
      "Wall time: 1min 12s\n"
     ]
    }
   ],
   "source": [
    "%%time\n",
    "print(\"** Le nombre d'IP uniques loggées: {}\".format(data.map(lambda log: log.remote_host).distinct().count()))"
   ]
  },
  {
   "cell_type": "markdown",
   "metadata": {},
   "source": [
    "## From rdd to Dataframe"
   ]
  },
  {
   "cell_type": "code",
   "execution_count": 7,
   "metadata": {},
   "outputs": [
    {
     "name": "stdout",
     "output_type": "stream",
     "text": [
      "CPU times: user 34.6 ms, sys: 0 ns, total: 34.6 ms\n",
      "Wall time: 5.48 s\n"
     ]
    }
   ],
   "source": [
    "%%time\n",
    "logs_sdf = data.map(lambda log: (log.remote_host, log.request_time, parse_ua(log.headers_in['User-Agent'])))\\\n",
    "                .toDF([\"host\", \"request_time\", \"browserFamily\"])"
   ]
  },
  {
   "cell_type": "code",
   "execution_count": 8,
   "metadata": {},
   "outputs": [
    {
     "name": "stdout",
     "output_type": "stream",
     "text": [
      "+---------------+-------------------+-------------+\n",
      "|           host|       request_time|browserFamily|\n",
      "+---------------+-------------------+-------------+\n",
      "|109.169.248.247|2015-12-12 18:25:11|      Firefox|\n",
      "+---------------+-------------------+-------------+\n",
      "only showing top 1 row\n",
      "\n"
     ]
    }
   ],
   "source": [
    "# tiny check\n",
    "logs_sdf.show(1)"
   ]
  },
  {
   "cell_type": "markdown",
   "metadata": {},
   "source": [
    "## Q3) Nombre de requetes par IP"
   ]
  },
  {
   "cell_type": "code",
   "execution_count": 9,
   "metadata": {},
   "outputs": [
    {
     "name": "stdout",
     "output_type": "stream",
     "text": [
      "+--------------------------------+\n",
      "|average number of requests by IP|\n",
      "+--------------------------------+\n",
      "|               77.92838667745487|\n",
      "+--------------------------------+\n",
      "\n"
     ]
    }
   ],
   "source": [
    "logs_sdf.select(\"host\", \"request_time\").groupBy(\"host\").count().select(\"count\").agg(avg(col(\"count\"))\\\n",
    "                                                        .alias(\"average number of requests by IP\")).show()"
   ]
  },
  {
   "cell_type": "markdown",
   "metadata": {},
   "source": [
    "## Q4) DATA VIZ"
   ]
  },
  {
   "cell_type": "markdown",
   "metadata": {},
   "source": [
    "### a) Répartition des navigateurs"
   ]
  },
  {
   "cell_type": "code",
   "execution_count": 10,
   "metadata": {},
   "outputs": [],
   "source": [
    "browsers, counts_bins = getBrowserHist(logs_sdf)"
   ]
  },
  {
   "cell_type": "code",
   "execution_count": 52,
   "metadata": {},
   "outputs": [],
   "source": [
    "NB_TOP_BROWSERS = 15\n",
    "args_top = np.argsort(-1*np.array(counts_bins))[:NB_TOP_BROWSERS]\n",
    "browsers_top = np.array(browsers)[args_top]\n",
    "counts_bins_top = np.array(counts_bins)[args_top]"
   ]
  },
  {
   "cell_type": "code",
   "execution_count": 53,
   "metadata": {},
   "outputs": [
    {
     "data": {
      "image/png": "[encoded data removed]",
      "text/plain": [
       "<Figure size 432x288 with 1 Axes>"
      ]
     },
     "metadata": {},
     "output_type": "display_data"
    }
   ],
   "source": [
    "plot_browsers_bar(browsers_top, counts_bins_top, logscale=False, save=True)"
   ]
  },
  {
   "cell_type": "markdown",
   "metadata": {},
   "source": [
    "### b) Nombre de visiteurs par jour de la semaine et par heure"
   ]
  },
  {
   "cell_type": "code",
   "execution_count": 12,
   "metadata": {},
   "outputs": [],
   "source": [
    "dataframe_dataviz = getHourlyHostsPerWeekday(logs_sdf)"
   ]
  },
  {
   "cell_type": "code",
   "execution_count": 13,
   "metadata": {},
   "outputs": [
    {
     "data": {
      "image/png": "[encoded data removed]",
      "text/plain": [
       "<Figure size 432x288 with 2 Axes>"
      ]
     },
     "metadata": {},
     "output_type": "display_data"
    }
   ],
   "source": [
    "ax = sns.heatmap(dataframe_dataviz, linewidths=.3, square=True)"
   ]
  },
  {
   "cell_type": "markdown",
   "metadata": {},
   "source": [
    "## Q5)"
   ]
  },
  {
   "cell_type": "code",
   "execution_count": 16,
   "metadata": {},
   "outputs": [],
   "source": [
    "# Sessionize the logs\n",
    "SESSION_TIME = 30\n",
    "user_session_id = sessionizeByTime(logs_sdf, session_time=SESSION_TIME)"
   ]
  },
  {
   "cell_type": "markdown",
   "metadata": {},
   "source": [
    "## Analytics by sessions"
   ]
  },
  {
   "cell_type": "code",
   "execution_count": 17,
   "metadata": {},
   "outputs": [
    {
     "name": "stdout",
     "output_type": "stream",
     "text": [
      "+----------------------------------+\n",
      "|Average number of sessions per day|\n",
      "+----------------------------------+\n",
      "|                 86.05263157894737|\n",
      "+----------------------------------+\n",
      "\n"
     ]
    }
   ],
   "source": [
    "user_session_id.select(dayofmonth('request_time').alias('day'),month('request_time')\\\n",
    "                .alias('month'),year('request_time').alias('year'), 'user_session_id' )\\\n",
    "                .groupBy('year', 'month').agg(countDistinct('user_session_id').alias('sessionsDistinct'))\\\n",
    "                .agg(avg(\"sessionsDistinct\").alias('Average number of sessions per day')).show()"
   ]
  },
  {
   "cell_type": "code",
   "execution_count": 18,
   "metadata": {},
   "outputs": [
    {
     "name": "stdout",
     "output_type": "stream",
     "text": [
      "+-----------------------------------+\n",
      "|average number of sessions per host|\n",
      "+-----------------------------------+\n",
      "|                  1.706463636243053|\n",
      "+-----------------------------------+\n",
      "\n"
     ]
    }
   ],
   "source": [
    "user_session_id.select(\"host\", \"user_session_id\").groupBy(\"host\").agg(countDistinct(\"user_session_id\")\\\n",
    "                .alias(\"nb_sessions_per_host\")).agg(avg('nb_sessions_per_host')\\\n",
    "                .alias(\"average number of sessions per host\")).show()"
   ]
  },
  {
   "cell_type": "code",
   "execution_count": 19,
   "metadata": {},
   "outputs": [],
   "source": [
    "request_by_session = user_session_id.select(\"host\", \"user_session_id\", \"request_time\").groupBy(\"host\",\"user_session_id\")\\\n",
    "                .count().cache()"
   ]
  },
  {
   "cell_type": "code",
   "execution_count": 20,
   "metadata": {},
   "outputs": [
    {
     "name": "stdout",
     "output_type": "stream",
     "text": [
      "+-------------------------------------+\n",
      "|Average number of requests by session|\n",
      "+-------------------------------------+\n",
      "|                   45.666596710505864|\n",
      "+-------------------------------------+\n",
      "\n"
     ]
    }
   ],
   "source": [
    "request_by_session.select(\"count\").agg(avg(\"count\").alias(\"Average number of requests by session\")).show()"
   ]
  },
  {
   "cell_type": "markdown",
   "metadata": {},
   "source": [
    "# ================================================================================================================"
   ]
  },
  {
   "cell_type": "markdown",
   "metadata": {},
   "source": [
    "# Import libraries"
   ]
  },
  {
   "cell_type": "code",
   "execution_count": 1,
   "metadata": {},
   "outputs": [],
   "source": [
    "import re\n",
    "\n",
    "import sys\n",
    "import os\n",
    "import re\n",
    "import datetime\n",
    "from pyspark.sql import Row\n",
    "from pyspark import SparkContext\n",
    "from user_agents import parse\n",
    "\n",
    "from pyspark.sql.functions import col, avg\n",
    "from pyspark.sql import functions as F\n",
    "from pyspark.sql.types import *\n",
    "from pyspark.sql.functions import dayofweek, hour, countDistinct, dayofmonth\n",
    "import pandas as pd\n",
    "import numpy as np\n",
    "\n",
    "\n",
    "import matplotlib.pyplot as plt\n",
    "import seaborn as sns; sns.set()\n",
    "\n",
    "from apachelogs import LogParser\n",
    "\n",
    "\n",
    "from pyspark.sql.window import Window\n",
    "from pyspark.sql.functions import lag\n",
    "from pyspark.sql.functions import unix_timestamp, when, year, month, dayofmonth\n",
    "from pyspark.sql.functions import sum as _sum"
   ]
  },
  {
   "cell_type": "code",
   "execution_count": 50,
   "metadata": {},
   "outputs": [
    {
     "data": {
      "text/html": [
       "<style>.container { width:100% !important; }</style>"
      ],
      "text/plain": [
       "<IPython.core.display.HTML object>"
      ]
     },
     "metadata": {},
     "output_type": "display_data"
    }
   ],
   "source": [
    "from IPython.core.display import display, HTML\n",
    "display(HTML(\"<style>.container { width:100% !important; }</style>\"))"
   ]
  },
  {
   "cell_type": "markdown",
   "metadata": {},
   "source": [
    "# Functions"
   ]
  },
  {
   "cell_type": "code",
   "execution_count": 2,
   "metadata": {},
   "outputs": [],
   "source": [
    "# Defining the logs parser and the format of each line\n",
    "parser = LogParser(\"%h %l %u %t \\\"%r\\\" %>s %b \\\"%{Referer}i\\\" \\\"%{User-Agent}i\\\"\")\n",
    "\n",
    "def load_data(source_path):\n",
    "    \"\"\"Funtion that loads data and filters empty rows\n",
    "       Out:  PythonRDD\n",
    "    \"\"\"\n",
    "    return sc.textFile(source_path).filter(lambda x: x is not u'').map(lambda row: parser.parse(row[:-4])).cache()\n",
    "\n",
    "def parse_ua(ua_string):\n",
    "    \"\"\"Function that parse user agent and return the browserFamily\n",
    "        Out: String\n",
    "    \"\"\"\n",
    "    # parse library cannot parse None\n",
    "    if ua_string is None:\n",
    "        ua_string = \"\"\n",
    "\n",
    "    parsed_string = parse(ua_string)\n",
    "\n",
    "    output = parsed_string.browser.family\n",
    "    \n",
    "    if output is None:\n",
    "        output = 'Unknown'\n",
    "    return output\n",
    "\n",
    "def getBrowserHist(logs_sdf):\n",
    "    \"\"\"\n",
    "    Function that return for each browserFaily his number off apparition\n",
    "    Out: List, List\n",
    "    \"\"\"\n",
    "    \n",
    "    browser_hist = logs_sdf.select(\"browserFamily\").groupBy(\"browserFamily\").count().collect()\n",
    "    \n",
    "    browsers = [browser for (browser,_)  in browser_hist]\n",
    "    counts_bins = [count for (_,count)  in browser_hist]\n",
    "    #logscale_counts_bins = [np.log(count) for (_,count)  in browser_hist]\n",
    "    \n",
    "    return browsers, counts_bins\n",
    "\n",
    "def plot_browsers_bar(browsers, counts_bins, logscale=False, save=False):\n",
    "    \"\"\"\n",
    "    Plot the histogram of browserFamily, and save it if 'save' is set to True\n",
    "    Out: None\n",
    "    \"\"\"\n",
    "    \n",
    "    plt.barh(browsers, counts_bins, log=logscale)\n",
    "    plt.title(\"Répartition des navigateur\")\n",
    "    plt.xlabel(\"Nombre d'apparition\")\n",
    "    plt.ylabel(\"Navigateur\")\n",
    "    \n",
    "    if save == True:\n",
    "        plt.savefig(\"../output/repartitionDesNavigateurs.pdf\")\n",
    "        \n",
    "        \n",
    "def getHourlyHostsPerWeekday(logs_sdf):\n",
    "    \n",
    "    \"\"\"\n",
    "    Return the number of hosts by hour for each weekday\n",
    "    Out: dataframe\n",
    "    \"\"\"\n",
    "    \n",
    "    # mapping id to day (Example: 0 => Monday, 1 => Tuesday ...)\n",
    "    weekDays = (\"Monday\",\"Tuesday\",\"Wednesday\",\"Thursday\",\"Friday\",\"Saturday\",\"Sunday\")\n",
    "\n",
    "    \n",
    "    hosts_by_day_hour = logs_sdf.select(dayofweek('request_time').alias('dayofweek'), hour('request_time')\\\n",
    "                                    .alias('hour'), 'host').cache()\n",
    "    \n",
    "    hosts_by_day_hour_unique = hosts_by_day_hour.groupBy('dayofweek', 'hour').agg(countDistinct(\"host\")\\\n",
    "                                    .alias('countHosts')).sort(\"dayofweek\", \"hour\").cache()\n",
    "    \n",
    "    days = [weekDays[_day-1] for (_day,_,_) in hosts_by_day_hour_unique.collect()]\n",
    "    hours = [_hour for (_,_hour,_) in hosts_by_day_hour_unique.collect()]\n",
    "    daily_hourly_hosts = [_host for (_,_,_host) in hosts_by_day_hour_unique.collect()]\n",
    "    \n",
    "    dataframe_dataviz = pd.DataFrame(list(zip(days, hours, daily_hourly_hosts)), columns=[\"days\", \"hours\"\\\n",
    "                                , \"daily_hourly_hosts\"])\\\n",
    "                                .pivot(\"days\",\"hours\", \"daily_hourly_hosts\").fillna(0)\n",
    "        \n",
    "    return dataframe_dataviz\n",
    "\n",
    "\n",
    "def sessionizeByTime(logs_sdf, session_time=30):\n",
    "    \n",
    "    \"\"\"\n",
    "    Compute the user sessions according to the session_time\n",
    "    Out: dataframe\n",
    "    \"\"\"\n",
    "    last_event = logs_sdf.select(\"host\", \"request_time\").withColumn(\"last_event\", lag('request_time')\\\n",
    "                                                    .over(Window.partitionBy('host').orderBy('request_time')))\n",
    "    lag_in_day = last_event.withColumn('lag_in_day', (unix_timestamp('request_time') - unix_timestamp('last_event'))/3600)\n",
    "    new_session = lag_in_day.withColumn('is_new_session', when( col('lag_in_day') > SESSION_TIME , 1).otherwise(0))\n",
    "    user_session_id = new_session.withColumn(\"user_session_id\", _sum('is_new_session')\\\n",
    "                                 .over(Window.partitionBy('host').orderBy('request_time'))).cache()\n",
    "    return user_session_id.select('host', 'request_time', 'user_session_id')\n",
    "\n",
    "    "
   ]
  },
  {
   "cell_type": "code",
   "execution_count": null,
   "metadata": {},
   "outputs": [],
   "source": []
  }
 ],
 "metadata": {
  "kernelspec": {
   "display_name": "pyspark_env",
   "language": "python",
   "name": "pyspark_env"
  },
  "language_info": {
   "codemirror_mode": {
    "name": "ipython",
    "version": 3
   },
   "file_extension": ".py",
   "mimetype": "text/x-python",
   "name": "python",
   "nbconvert_exporter": "python",
   "pygments_lexer": "ipython3",
   "version": "3.6.10"
  }
 },
 "nbformat": 4,
 "nbformat_minor": 2
}
